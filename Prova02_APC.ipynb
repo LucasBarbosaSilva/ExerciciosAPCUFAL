{
  "nbformat": 4,
  "nbformat_minor": 0,
  "metadata": {
    "colab": {
      "name": "Prova02-APC",
      "provenance": [],
      "authorship_tag": "ABX9TyM/FIHWoYQanvGV60jZ2UEb",
      "include_colab_link": true
    },
    "kernelspec": {
      "name": "python3",
      "display_name": "Python 3"
    },
    "language_info": {
      "name": "python"
    }
  },
  "cells": [
    {
      "cell_type": "markdown",
      "metadata": {
        "id": "view-in-github",
        "colab_type": "text"
      },
      "source": [
        "<a href=\"https://colab.research.google.com/github/LucasBarbosaSilva/ExerciciosAPCUFAL/blob/main/Prova02_APC.ipynb\" target=\"_parent\"><img src=\"https://colab.research.google.com/assets/colab-badge.svg\" alt=\"Open In Colab\"/></a>"
      ]
    },
    {
      "cell_type": "markdown",
      "metadata": {
        "id": "IB-dKHUSwBYF"
      },
      "source": [
        "1. Escreva um programa que recebe vários números do usuário e armazena em uma lista até que o\n",
        "usuário digite um valor menor do que zero. O número menor que 0 não deve ser armazenado na lista.\n",
        "Em seguida o programa pede ao usuário que informe um número x e escreve uma mensagem informando\n",
        "se esse número x pertence ou não a lista informada."
      ]
    },
    {
      "cell_type": "code",
      "metadata": {
        "colab": {
          "base_uri": "https://localhost:8080/"
        },
        "id": "53xN_0bZv3qH",
        "outputId": "44f34109-f8bc-4997-8a0b-79a75d53cee1"
      },
      "source": [
        "numeros = []\n",
        "while True:\n",
        "  n = int(input(\"Informe um número: \"))\n",
        "  if(n < 0):\n",
        "    break\n",
        "  numeros.append(n)\n",
        "\n",
        "x = int(input(\"Qual número deseja validar? 2\"))\n",
        "if(x in numeros):\n",
        "  print(\"O número %d foi informado anteriormente\" %x)\n",
        "else:\n",
        "  print(\"O número não foi informado anteriormente\")"
      ],
      "execution_count": null,
      "outputs": [
        {
          "output_type": "stream",
          "name": "stdout",
          "text": [
            "Informe um número: 1\n",
            "Informe um número: 2\n",
            "Informe um número: 3\n",
            "Informe um número: 4\n",
            "Informe um número: 5\n",
            "Informe um número: 6\n",
            "Informe um número: -0\n",
            "Informe um número: 4\n",
            "Informe um número: -1\n",
            "Qual número deseja validar? 5\n",
            "O número 5 foi informado anteriormente\n"
          ]
        }
      ]
    },
    {
      "cell_type": "markdown",
      "metadata": {
        "id": "8Bhrva7cxMeL"
      },
      "source": [
        "2. Um funcionário do IBGE viu o excelente trabalho que você fez no algoritmo anterior e ficou\n",
        "impressionado. Resolveu então contratá-lo para escrever um programa. O programa recebe como entrada\n",
        "um inteiro que corresponde a quantidade de pessoas entrevistadas e, em seguida, para cada pessoa\n",
        "entrevistada o programa recebe um inteiro que corresponde a idade do entrevistado. O programa deve\n",
        "calcular:\n",
        "- a quantidade de pessoas em cada faixa etária;\n",
        "-  a porcentagem de pessoas na primeira faixa etária, com relação ao total de pessoas."
      ]
    },
    {
      "cell_type": "code",
      "metadata": {
        "colab": {
          "base_uri": "https://localhost:8080/"
        },
        "id": "jaqRiXWDxQpD",
        "outputId": "40ed453c-fe94-4114-ddb7-ac546581734f"
      },
      "source": [
        "n = int(input(\"Total de pessoas entrevistadas: \"))\n",
        "faixa1 = 0\n",
        "faixa2 = 0\n",
        "faixa3 = 0\n",
        "faixa4 = 0\n",
        "faixa5 = 0\n",
        "\n",
        "for x in range(n):\n",
        "  v = int(input(\"Idade da %dª pessoa: \" %(x+1)))\n",
        "  if(v <= 15):\n",
        "    faixa1+=1\n",
        "  elif(16 <= v <= 30):\n",
        "    faixa2+=1\n",
        "  elif(31 <= v <= 45):\n",
        "    faixa3+=1\n",
        "  elif(46 <= v <= 60):\n",
        "    faixa4+=1\n",
        "  else:\n",
        "    faixa5+=1\n",
        "print(\"\\nQuantidade de pessoas por cada faixa etária:\")\n",
        "print(\"Faixa 1 (Até 15 anos): %d\" %faixa1)\n",
        "print(\"Faixa 2 (De 16 a 30 anos): %d\" %faixa2)\n",
        "print(\"Faixa 3 (De 31 a 45 anos): %d\" %faixa3)\n",
        "print(\"Faixa 4 (De 46 a 60 anos): %d\" %faixa4)\n",
        "print(\"Faixa 4 (Acima de 61 anos): %d\" %faixa5)\n",
        "\n",
        "print(\"Porcentagem de pessoas da primeira faixa com relação ao total de pessoas: %.2f%s\" %((faixa1/n*100), '%'))"
      ],
      "execution_count": null,
      "outputs": [
        {
          "output_type": "stream",
          "name": "stdout",
          "text": [
            "Total de pessoas entrevistadas: 5\n",
            "Idade da 1ª pessoa: 13\n",
            "Idade da 2ª pessoa: 20\n",
            "Idade da 3ª pessoa: 35\n",
            "Idade da 4ª pessoa: 48\n",
            "Idade da 5ª pessoa: 65\n",
            "\n",
            "Quantidade de pessoas por cada faixa etária:\n",
            "Faixa 1 (Até 15 anos): 1\n",
            "Faixa 2 (De 16 a 30 anos): 1\n",
            "Faixa 3 (De 31 a 45 anos): 1\n",
            "Faixa 4 (De 46 a 60 anos): 1\n",
            "Faixa 4 (Acima de 61 anos): 1\n",
            "Porcentagem de pessoas da primeira faixa com relação ao total de pessoas: 20.00%\n"
          ]
        }
      ]
    },
    {
      "cell_type": "markdown",
      "metadata": {
        "id": "ubp-ucBKzrxz"
      },
      "source": [
        ""
      ]
    },
    {
      "cell_type": "markdown",
      "metadata": {
        "id": "WB0AD00O1f1S"
      },
      "source": [
        "3. Uma organização não-governamental está realizando um estudo com uma determinada comunidade. Uma das características analisadas desta comunidade foi o índice de massa corporal (IMC), com\n",
        "o objetivo de identificar as pessoas que estão abaixo do peso ideal. O IMC é calculado dividindo o peso\n",
        "(em kg) pela altura (em metros) ao quadrado (eq. 1). Você foi então contratado para criar um programa\n",
        "que automatiza o processo de computação dos dados. O programa recebe como entrada um inteiro\n",
        "que corresponde a quantidade de pessoas entrevistadas e, em seguida, para cada pessoal entrevistada o\n",
        "programa recebe o peso e a altura do entrevistado. O programa deve calcular:\n",
        "\n",
        "- a quantidade de pessoas em cada faixa de IMC;\n",
        "- a porcentagem de pessoas que estão abaixo do peso, com relação ao total de pessoas."
      ]
    },
    {
      "cell_type": "code",
      "metadata": {
        "colab": {
          "base_uri": "https://localhost:8080/"
        },
        "id": "o1B64I_V1kNT",
        "outputId": "c3d4d876-27c7-43e0-d1fd-e30c687d1137"
      },
      "source": [
        "n = int(input(\"Total de pessoas entrevistadas: \"))\n",
        "abaixoPeso = 0\n",
        "pesoNormal = 0\n",
        "acimaPeso = 0\n",
        "obesidade = 0\n",
        "\n",
        "for c in range(n):\n",
        "  peso = float(input(\"Informe o peso da %dª pessoa: \" %(c+1)))\n",
        "  altura = float(input(\"Informe a altura da %dª pessoa: \" %(c+1)))\n",
        "  imc = peso / altura**2\n",
        "  if(imc <= 18.49):\n",
        "    abaixoPeso+=1\n",
        "    print(\"Esta pessoa está abaixo do peso\")\n",
        "  elif(18.5 <= imc < 25):\n",
        "    pesoNormal+=1\n",
        "    print(\"Esta pessoa está no peso normal\")\n",
        "  elif(25 <=imc < 30):\n",
        "    acimaPeso+=1\n",
        "    print(\"Esta pessoa está acima do peso\")\n",
        "  else:\n",
        "    obesidade+=1\n",
        "    print(\"Esta pessoa está obeso\")\n",
        "\n",
        "print(\"\\nQuantidade de pessoas em cada faixa od IMC:\")\n",
        "print(\"Abaixo do peso (Abaixo de 18,49): %d\" %abaixoPeso)\n",
        "print(\"Peso normal (Entre 18,5 e 24,99): %d\" %pesoNormal)\n",
        "print(\"Acima do peso (Entre 25 e 29,99): %d\" %acimaPeso)\n",
        "print(\"Obesidade (Acima de 30): %d\" %obesidade)\n",
        "\n",
        "print(\"\\nPorcentagem de pessoas da primeira faixa com relação ao total de pessoas: %.2f%s\" %((abaixoPeso/n*100),'%'))"
      ],
      "execution_count": null,
      "outputs": [
        {
          "output_type": "stream",
          "name": "stdout",
          "text": [
            "Total de pessoas entrevistadas: 5\n",
            "Informe o peso da 1ª pessoa: 55\n",
            "Informe a altura da 1ª pessoa: 1.62\n",
            "Esta pessoa está no peso normal\n",
            "Informe o peso da 2ª pessoa: 67\n",
            "Informe a altura da 2ª pessoa: 1.68\n",
            "Esta pessoa está no peso normal\n",
            "Informe o peso da 3ª pessoa: 70\n",
            "Informe a altura da 3ª pessoa: 1.5\n",
            "Esta pessoa está obeso\n",
            "Informe o peso da 4ª pessoa: 80\n",
            "Informe a altura da 4ª pessoa: 1.90\n",
            "Esta pessoa está no peso normal\n",
            "Informe o peso da 5ª pessoa: 45\n",
            "Informe a altura da 5ª pessoa: 1.50\n",
            "Esta pessoa está no peso normal\n",
            "\n",
            "Quantidade de pessoas em cada faixa od IMC:\n",
            "Abaixo do peso (Abaixo de 18,49): 0\n",
            "Peso normal (Entre 18,5 e 24,99): 4\n",
            "Acima do peso (Entre 25 e 29,99): 0\n",
            "Obesidade (Acima de 30): 1\n",
            "\n",
            "Porcentagem de pessoas da primeira faixa com relação ao total de pessoas: 0.00%\n"
          ]
        }
      ]
    }
  ]
}