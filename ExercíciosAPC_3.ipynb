{
  "nbformat": 4,
  "nbformat_minor": 0,
  "metadata": {
    "colab": {
      "name": "ExercíciosAPC#3.ipynb",
      "provenance": [],
      "collapsed_sections": [],
      "authorship_tag": "ABX9TyPOSsqh3ZAHACQZhOnCFzDO",
      "include_colab_link": true
    },
    "kernelspec": {
      "name": "python3",
      "display_name": "Python 3"
    },
    "language_info": {
      "name": "python"
    }
  },
  "cells": [
    {
      "cell_type": "markdown",
      "metadata": {
        "id": "view-in-github",
        "colab_type": "text"
      },
      "source": [
        "<a href=\"https://colab.research.google.com/github/LucasBarbosaSilva/ExerciciosAPCUFAL/blob/main/Exerc%C3%ADciosAPC_3.ipynb\" target=\"_parent\"><img src=\"https://colab.research.google.com/assets/colab-badge.svg\" alt=\"Open In Colab\"/></a>"
      ]
    },
    {
      "cell_type": "markdown",
      "metadata": {
        "id": "MUU25MMft41Y"
      },
      "source": [
        "Faça um programa que recebe um número e calcula o fatorial desse número"
      ]
    },
    {
      "cell_type": "code",
      "metadata": {
        "colab": {
          "base_uri": "https://localhost:8080/"
        },
        "id": "ktVfTGcbs2re",
        "outputId": "2f3112df-e05e-4626-a214-218573a8f69a"
      },
      "source": [
        "n = int(input(\"Número para calcular o fatorial: \"))\n",
        "fatorial = n\n",
        "for x in range(n, 0, -1):\n",
        "  anterior = fatorial\n",
        "  fatorial *= x\n",
        "  print(\"%d x %d = %d\" %(anterior,x,fatorial))\n",
        "print(\"O fatorial de %d é: %d\" %(n, fatorial))"
      ],
      "execution_count": null,
      "outputs": [
        {
          "output_type": "stream",
          "name": "stdout",
          "text": [
            "Número para calcular o fatorial: 4\n",
            "4 x 4 = 16\n",
            "16 x 3 = 48\n",
            "48 x 2 = 96\n",
            "96 x 1 = 96\n",
            "O fatorial de 4 é: 96\n"
          ]
        }
      ]
    },
    {
      "cell_type": "markdown",
      "metadata": {
        "id": "_5T-HVFVwH_j"
      },
      "source": [
        "Faça um programa que conta o número de valores negativos em um conjunto"
      ]
    },
    {
      "cell_type": "code",
      "metadata": {
        "colab": {
          "base_uri": "https://localhost:8080/"
        },
        "id": "sKD9ryKPwglx",
        "outputId": "9c7750df-eeb6-4ec5-b83c-d8009a2fac1a"
      },
      "source": [
        "while(True):\n",
        "  pergunta = \"Digite os valores do conjunto (ex.: 1 2 3 4): \"\n",
        "  try:\n",
        "    conjunto = [int(x) < 0 for x in input(pergunta).split()]\n",
        "  except:\n",
        "    print(\"Você não digitou um valor de conjunto válido!\")\n",
        "    print(\"Valores devem ser separados por espaço\")\n",
        "    continue\n",
        "  total = 0\n",
        "  print(\"Usando o FOR\")\n",
        "  for n in conjunto:\n",
        "    if(n):\n",
        "      total +=1\n",
        "  print(\"Total de números negativos: \",total)\n",
        "\n",
        "  print(\"Usando a função count:\")\n",
        "  total = conjunto.count(True)\n",
        "  print(\"Total de números negativos: \",total)\n",
        "  break"
      ],
      "execution_count": null,
      "outputs": [
        {
          "output_type": "stream",
          "name": "stdout",
          "text": [
            "Digite os valores do conjunto (ex.: 1 2 3 4): 1,2,3\n",
            "Você não digitou um valor de conjunto válido!\n",
            "Valores devem ser separados por espaço\n",
            "Digite os valores do conjunto (ex.: 1 2 3 4): 1 3 4\n",
            "Usando o FOR\n",
            "Total de números negativos:  0\n",
            "Usando a função count:\n",
            "Total de números negativos:  0\n"
          ]
        }
      ]
    },
    {
      "cell_type": "markdown",
      "metadata": {
        "id": "qOrokXv20DAq"
      },
      "source": [
        "Faça um programa que recebe um conjunto de inteiros e imprime os valores\n",
        "que estão abaixo da média do conjunto"
      ]
    },
    {
      "cell_type": "code",
      "metadata": {
        "colab": {
          "base_uri": "https://localhost:8080/"
        },
        "id": "lWlfbJAJ0E-v",
        "outputId": "517ab142-e562-4ff1-d84c-b75f8c33c2ac"
      },
      "source": [
        "while(True):\n",
        "  pergunta = \"Digite os valores do conjunto (ex.: 1 2 3 4): \"\n",
        "  try:\n",
        "    conjunto = [int(x) for x in input(pergunta).split()]\n",
        "  except:\n",
        "    print(\"Você não digitou um valor de conjunto válido!\")\n",
        "    print(\"Valores devem ser separados por espaço\")\n",
        "    continue\n",
        "  media = sum(conjunto) / len(conjunto)\n",
        "  abaixoDaMedia = [nota for nota in conjunto if nota < media]\n",
        "  print(\"Os valores que estão abaixo da média são:\", abaixoDaMedia)\n",
        "  break"
      ],
      "execution_count": null,
      "outputs": [
        {
          "output_type": "stream",
          "name": "stdout",
          "text": [
            "Digite os valores do conjunto (ex.: 1 2 3 4): 1 2 3 4\n",
            "Os valores que estão abaixo da média são: [1, 2]\n"
          ]
        }
      ]
    },
    {
      "cell_type": "markdown",
      "metadata": {
        "id": "eMiWe4CA3lQw"
      },
      "source": [
        "Faça um programa que recebe um conjunto de inteiros e conta quantos\n",
        "elementos maiores que n existem no conjunto"
      ]
    },
    {
      "cell_type": "code",
      "metadata": {
        "colab": {
          "base_uri": "https://localhost:8080/"
        },
        "id": "rJOEiYqc3pfH",
        "outputId": "0b19fed5-363a-425a-8479-64dd4711f5a4"
      },
      "source": [
        "while(True):\n",
        "  pergunta = \"Digite os valores do conjunto (ex.: 1 2 3 4): \"\n",
        "  try:\n",
        "    conjunto = [int(x) for x in input(pergunta).split()]\n",
        "  except:\n",
        "    print(\"Você não digitou um valor de conjunto válido!\")\n",
        "    print(\"Valores devem ser separados por espaço\")\n",
        "    continue\n",
        "\n",
        "  n = int(input(\"Digite o valor de n: \"))\n",
        "  \n",
        "  maioresQueN = [valor for valor in conjunto if valor > n]\n",
        "  print(\"Existe(m) \"+str(len(maioresQueN))+\" valor(es) maior(es) que N no conjunto\")\n",
        "  break"
      ],
      "execution_count": null,
      "outputs": [
        {
          "output_type": "stream",
          "name": "stdout",
          "text": [
            "Digite os valores do conjunto (ex.: 1 2 3 4): 1 2 3 4\n",
            "Digite o valor de n: 2\n",
            "Existe(m) 2 valor(es) maior(es) que N no conjunto\n"
          ]
        }
      ]
    },
    {
      "cell_type": "markdown",
      "metadata": {
        "id": "oUGEvUYD4aQo"
      },
      "source": [
        "Faça um programa que recebe um conjunto de inteiros e verifica se existe\n",
        "algum número negativo no conjunto:"
      ]
    },
    {
      "cell_type": "code",
      "metadata": {
        "colab": {
          "base_uri": "https://localhost:8080/"
        },
        "id": "SrCmhRbD4d4g",
        "outputId": "53046632-e846-4717-8951-608fb4ad3104"
      },
      "source": [
        "while(True):\n",
        "  pergunta = \"Digite os valores do conjunto (ex.: 1 2 3 4): \"\n",
        "  try:\n",
        "    conjunto = [int(x) for x in input(pergunta).split() if int(x) < 0]\n",
        "  except:\n",
        "    print(\"Você não digitou um valor de conjunto válido!\")\n",
        "    print(\"Valores devem ser separados por espaço\")\n",
        "    continue\n",
        "  if (len(conjunto) > 0):\n",
        "    print(\"Existe(m) \"+ str(len(conjunto))+\" valor(es) negativos\")\n",
        "  else:\n",
        "    print(\"Não existem falores negativos\")\n",
        "  break"
      ],
      "execution_count": null,
      "outputs": [
        {
          "output_type": "stream",
          "name": "stdout",
          "text": [
            "Digite os valores do conjunto (ex.: 1 2 3 4): 1 -2 -3 4\n",
            "Existe(m) 2 valor(es) negativos\n"
          ]
        }
      ]
    },
    {
      "cell_type": "markdown",
      "metadata": {
        "id": "tHVi7vVD5vDp"
      },
      "source": [
        "Faça um programa que recebe um conjunto de inteiros e um valor n e verifica\n",
        "se existe algum número com valor maior que n no conjunto"
      ]
    },
    {
      "cell_type": "code",
      "metadata": {
        "colab": {
          "base_uri": "https://localhost:8080/"
        },
        "id": "e8RdY7Pm51eT",
        "outputId": "8d3edab8-86e0-4c81-e30f-e9065b1116be"
      },
      "source": [
        "while(True):\n",
        "  pergunta = \"Digite os valores do conjunto (ex.: 1 2 3 4): \"\n",
        "  try:\n",
        "    conjunto = [int(x) for x in input(pergunta).split()]\n",
        "  except:\n",
        "    print(\"Você não digitou um valor de conjunto válido!\")\n",
        "    print(\"Valores devem ser separados por espaço\")\n",
        "    continue\n",
        "\n",
        "  n = int(input(\"Digite o valor de n: \"))\n",
        "  \n",
        "  maioresQueN = [valor for valor in conjunto if valor > n]\n",
        "  if (len(conjunto) > 0):\n",
        "    print(\"Existe(m) \"+ str(len(maioresQueN))+\" valor(es) maior(es) que N no conjunto\")\n",
        "  else:\n",
        "    print(\"Não existem valores maiores que N no conjunto\")\n",
        "  break"
      ],
      "execution_count": null,
      "outputs": [
        {
          "output_type": "stream",
          "name": "stdout",
          "text": [
            "Digite os valores do conjunto (ex.: 1 2 3 4): 1 2 3 4 5 6\n",
            "Digite o valor de n: 2\n",
            "Existe(m) 4 valor(es) maior(es) que N no conjunto\n"
          ]
        }
      ]
    },
    {
      "cell_type": "markdown",
      "metadata": {
        "id": "2bPT5WzG73SY"
      },
      "source": [
        "Faça um programa que recebe um conjunto de inteiros e um valor n e indica\n",
        "qual o valor mais próximo de n no conjunto"
      ]
    },
    {
      "cell_type": "code",
      "metadata": {
        "colab": {
          "base_uri": "https://localhost:8080/"
        },
        "id": "IA439BGp739I",
        "outputId": "a038dd8d-acce-437e-ed3a-b7f222f80bf1"
      },
      "source": [
        "while(True):\n",
        "  pergunta = \"Digite os valores do conjunto (ex.: 1 2 3 4): \"\n",
        "  try:\n",
        "    conjunto = [int(x) for x in input(pergunta).split()]\n",
        "  except:\n",
        "    print(\"Você não digitou um valor de conjunto válido!\")\n",
        "    print(\"Valores devem ser separados por espaço\")\n",
        "    continue\n",
        "\n",
        "  n = int(input(\"Digite o valor de n: \"))\n",
        "  \n",
        "  conjunto.append(n)\n",
        "  conjunto.sort()\n",
        "\n",
        "  index = conjunto.index(n)\n",
        "  if(index -1 >= 0):\n",
        "    valorAnt = conjunto[index-1]\n",
        "    print(\"Valor mais próximo de %d é: %d\" %(n, valorAnt ))\n",
        "  else:\n",
        "    print(\"Não existe um valor menor que n\")\n",
        "  break"
      ],
      "execution_count": null,
      "outputs": [
        {
          "output_type": "stream",
          "name": "stdout",
          "text": [
            "Digite os valores do conjunto (ex.: 1 2 3 4): 1 3 4 5\n",
            "Digite o valor de n: 2\n",
            "Valor mais próximo de 2 é: 1\n"
          ]
        }
      ]
    },
    {
      "cell_type": "markdown",
      "metadata": {
        "id": "LjWPAFN0_4eg"
      },
      "source": [
        "Faça um algoritmo que recebe uma palavra e imprime o inverso dessa\n",
        "palavra"
      ]
    },
    {
      "cell_type": "code",
      "metadata": {
        "colab": {
          "base_uri": "https://localhost:8080/"
        },
        "id": "iKirl3RR_4-_",
        "outputId": "bbb339ec-f7a2-42d1-fbc3-f83ed1cc3992"
      },
      "source": [
        "palavra = input(\"Digite a palavra: \")\n",
        "for x in range(len(palavra)-1, -1, -1):\n",
        "  print(palavra[x], end='' )"
      ],
      "execution_count": null,
      "outputs": [
        {
          "output_type": "stream",
          "name": "stdout",
          "text": [
            "Digite a palavra: casa\n",
            "asac"
          ]
        }
      ]
    },
    {
      "cell_type": "markdown",
      "metadata": {
        "id": "kpqyPrjWAehv"
      },
      "source": [
        "Faça um algoritmo que recebe uma palavra e um caractere e conta as\n",
        "ocorrências do caractere na palavra"
      ]
    },
    {
      "cell_type": "code",
      "metadata": {
        "colab": {
          "base_uri": "https://localhost:8080/"
        },
        "id": "3BGC3uL2Ahoe",
        "outputId": "ccf92e4c-b6e9-47ed-8d3e-8b17a7980fec"
      },
      "source": [
        "palavra = input(\"Palavra: \")\n",
        "caractere = input(\"Caractere: \")\n",
        "quantidade = 0\n",
        "for x in palavra:\n",
        "  if(x == caractere):\n",
        "    quantidade +=1\n",
        "print(\"Esse caracter aparece \", quantidade, \" vezes na palavra\")\n",
        "print(\"Usando o count: \", palavra.count(caractere))\n"
      ],
      "execution_count": null,
      "outputs": [
        {
          "output_type": "stream",
          "name": "stdout",
          "text": [
            "Palavra: casa\n",
            "Caractere: a\n",
            "Esse caracter aparece  2  vezes na palavra\n",
            "Usando o count:  2\n"
          ]
        }
      ]
    },
    {
      "cell_type": "markdown",
      "metadata": {
        "id": "-Xt_53XEBWFm"
      },
      "source": [
        "Faça um algoritmo que recebe uma palavra e conta quantas vogais há na\n",
        "palavra"
      ]
    },
    {
      "cell_type": "code",
      "metadata": {
        "colab": {
          "base_uri": "https://localhost:8080/"
        },
        "id": "5vzAcCIvBZlW",
        "outputId": "b4079c4e-bc06-4912-9411-d28ef26b9525"
      },
      "source": [
        "palavra = input(\"Digite a palavra: \")\n",
        "\n",
        "totalDeVogais = 0\n",
        "for c in palavra.lower():\n",
        "  if (c in ['a', 'e', 'i', 'o', 'u', 'á', 'â', 'ã', 'é', 'ê', 'í', 'ó', 'ô', 'õ', 'ú']):\n",
        "    totalDeVogais+=1\n",
        "print(\"Total de vogais: \", totalDeVogais)"
      ],
      "execution_count": null,
      "outputs": [
        {
          "output_type": "stream",
          "name": "stdout",
          "text": [
            "Digite a palavra: Rogérínhô\n",
            "Total de vogais:  4\n"
          ]
        }
      ]
    },
    {
      "cell_type": "markdown",
      "metadata": {
        "id": "en56Q8BfC282"
      },
      "source": [
        "Faça um algoritmo que recebe um conjunto de inteiros e dois números e\n",
        "verifica se esses dois números ocorrem em sequência no conjunto <br>\n",
        "■ Ex: lista = [1, 3, 5, 8, 6, 7, 4], n1 = 5 e n2 = 8 <br>\n",
        "      ● sim , a sequencia 5, 8 ocorre na lista"
      ]
    },
    {
      "cell_type": "code",
      "metadata": {
        "colab": {
          "base_uri": "https://localhost:8080/"
        },
        "id": "V3T0MDPaC3Z1",
        "outputId": "757648be-cab2-4a54-f339-317c256a3d2c"
      },
      "source": [
        "while(True):\n",
        "  pergunta = \"Digite os valores do conjunto (ex.: 1 2 3 4): \"\n",
        "  try:\n",
        "    conjunto = [int(x) for x in input(pergunta).split()]\n",
        "  except:\n",
        "    print(\"Você não digitou um valor de conjunto válido!\")\n",
        "    print(\"Valores devem ser separados por espaço\")\n",
        "    continue\n",
        "\n",
        "  valor1 = int(input(\"Digite o primeiro valor: \"))\n",
        "  valor2 = int(input(\"Digite o segundo valor: \"))\n",
        "  index1 = conjunto.index(valor1)\n",
        "  index2 = conjunto.index(valor2)\n",
        "\n",
        "  if(index1 - index2 == 1 or index2 - index1 == 1):\n",
        "    print(\"A sequência ocorre\")\n",
        "  else:\n",
        "    print(\"A sequência %d, %d não ocorre\" %(valor1, valor2))\n",
        "  break"
      ],
      "execution_count": null,
      "outputs": [
        {
          "output_type": "stream",
          "name": "stdout",
          "text": [
            "Digite os valores do conjunto (ex.: 1 2 3 4): 1 2 3 4\n",
            "Digite o primeiro valor: 1\n",
            "Digite o segundo valor: 2\n",
            "A sequência ocorre\n"
          ]
        }
      ]
    },
    {
      "cell_type": "markdown",
      "metadata": {
        "id": "Z1WocvaHEwFG"
      },
      "source": [
        "Faça um algoritmo que recebe um conjunto de inteiros que calcula a\n",
        "amplitude do conjunto. A amplitude é dada por: A = max-min"
      ]
    },
    {
      "cell_type": "code",
      "metadata": {
        "colab": {
          "base_uri": "https://localhost:8080/"
        },
        "id": "WkqbXKfSEwwV",
        "outputId": "3ea37e78-902b-4072-8f35-fd81ac7e3ac9"
      },
      "source": [
        "while(True):\n",
        "  pergunta = \"Digite os valores do conjunto do conjunto A(ex.: 1 2 3 4): \"\n",
        "  try:\n",
        "    conjunto = [int(x) for x in input(pergunta).split()]\n",
        "  except:\n",
        "    print(\"Você não digitou um valor de conjunto válido!\")\n",
        "    print(\"Valores devem ser separados por espaço\")\n",
        "    continue\n",
        "\n",
        "  valorMax = max(conjunto)\n",
        "  valorMin = min(conjunto)\n",
        "  amplitude = valorMax - valorMin\n",
        "\n",
        "  print(\"A amplitude do conjunto é: \", amplitude)\n",
        "  break"
      ],
      "execution_count": null,
      "outputs": [
        {
          "output_type": "stream",
          "name": "stdout",
          "text": [
            "Digite os valores do conjunto (ex.: 1 2 3 4): 1 3 5 6 7 8\n",
            "A amplitude do conjunto é:  7\n"
          ]
        }
      ]
    },
    {
      "cell_type": "markdown",
      "metadata": {
        "id": "XPYNhuAZFrw3"
      },
      "source": [
        "Faça um algoritmo que recebe dois conjuntos inteiros A e B de tamanho n e\n",
        "calcula a distância euclidiana entre esses conjuntos. A distância euclidiana é\n",
        "dada por:"
      ]
    },
    {
      "cell_type": "code",
      "metadata": {
        "colab": {
          "base_uri": "https://localhost:8080/"
        },
        "id": "k5JiTKGzFsQt",
        "outputId": "42d6f468-c08a-4327-bded-0468ae8c1df1"
      },
      "source": [
        "import math\n",
        "n = int(input(\"Informe o tamanho dos conjuntos: \"))\n",
        "c = 1\n",
        "conjunto = \"A\"\n",
        "conjuntoA = []\n",
        "conjuntoB = []\n",
        "while(c <=2):\n",
        "  print(\"Informe os valores do conjunto %s:\" %conjunto)\n",
        "  if(conjunto == \"A\"):\n",
        "    for x in range(n):\n",
        "      conjuntoA.append(int(input()))\n",
        "  else:\n",
        "    for x in range(n):\n",
        "      conjuntoB.append(int(input()))\n",
        "  c+=1\n",
        "  conjunto=\"B\"\n",
        "somaDosQuadrados = 0\n",
        "for x in range(n):\n",
        "  somaDosQuadrados += (conjuntoA[x] + conjuntoB[x])**2\n",
        "\n",
        "dA_B = math.sqrt(somaDosQuadrados)\n",
        "print(\"A distância euclidiana desses conjuntos é: %.2f\" %dA_B)"
      ],
      "execution_count": null,
      "outputs": [
        {
          "output_type": "stream",
          "name": "stdout",
          "text": [
            "Informe o tamanho dos conjuntos: 3\n",
            "Informe os valores do conjunto A:\n",
            "2\n",
            "3\n",
            "4\n",
            "Informe os valores do conjunto B:\n",
            "2\n",
            "3\n",
            "4\n",
            "A distância euclidiana desses conjuntos é: 10.77\n"
          ]
        }
      ]
    }
  ]
}