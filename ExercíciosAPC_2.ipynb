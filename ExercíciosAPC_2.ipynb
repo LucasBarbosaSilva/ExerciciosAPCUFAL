{
  "nbformat": 4,
  "nbformat_minor": 0,
  "metadata": {
    "colab": {
      "name": "ExercíciosAPC#2",
      "provenance": [],
      "authorship_tag": "ABX9TyPo2OSPHBq03xWHXEeYiN/0",
      "include_colab_link": true
    },
    "kernelspec": {
      "name": "python3",
      "display_name": "Python 3"
    },
    "language_info": {
      "name": "python"
    }
  },
  "cells": [
    {
      "cell_type": "markdown",
      "metadata": {
        "id": "view-in-github",
        "colab_type": "text"
      },
      "source": [
        "<a href=\"https://colab.research.google.com/github/LucasBarbosaSilva/ExerciciosAPCUFAL/blob/main/Exerc%C3%ADciosAPC_2.ipynb\" target=\"_parent\"><img src=\"https://colab.research.google.com/assets/colab-badge.svg\" alt=\"Open In Colab\"/></a>"
      ]
    },
    {
      "cell_type": "markdown",
      "metadata": {
        "id": "7v2QdnwSKGaK"
      },
      "source": [
        "Exercício 1: Faça um programa que leia dois números A e B e imprima o maior deles."
      ]
    },
    {
      "cell_type": "code",
      "metadata": {
        "colab": {
          "base_uri": "https://localhost:8080/"
        },
        "id": "MwWfQ2EvIs_S",
        "outputId": "68b30d81-69b9-4ce6-be57-2061e25d2fd6"
      },
      "source": [
        "num1 = int(input(\"Número 1: \"))\n",
        "num2 = int(input(\"Número 2: \"))\n",
        "print(\"Maior número é\", max(num1, num2))"
      ],
      "execution_count": null,
      "outputs": [
        {
          "output_type": "stream",
          "name": "stdout",
          "text": [
            "Número 1: 12\n",
            "Número 2: 10\n",
            "Maior número é 12\n"
          ]
        }
      ]
    },
    {
      "cell_type": "markdown",
      "metadata": {
        "id": "oLU3XMyOLK3R"
      },
      "source": [
        "Exercício 2:  Faça um programa que leia a idade de uma pessoa e imprima sua categoria: <br>\n",
        "– Criança, se menor de 14 anos<br>\n",
        "– Adolescente, se entre 14 e 17 anos<br>\n",
        "– Adulto, se entre 18 e 59 anos<br>\n",
        "– Idoso, se maior que 60 anos"
      ]
    },
    {
      "cell_type": "code",
      "metadata": {
        "colab": {
          "base_uri": "https://localhost:8080/"
        },
        "id": "atLzews7Ljcq",
        "outputId": "b69a62ea-0359-4fa0-949b-a22d8f931a7c"
      },
      "source": [
        "idade = int(input(\"Digite sua idade: \"))\n",
        "if(idade < 14):\n",
        "  print(\"Criança\")\n",
        "elif(14 <= idade <= 17):\n",
        "  print(\"Adolescente\")\n",
        "elif(18 <=idade <= 59):\n",
        "  print(\"Adulto\")\n",
        "else:\n",
        "  print(\"Idoso\")"
      ],
      "execution_count": null,
      "outputs": [
        {
          "output_type": "stream",
          "name": "stdout",
          "text": [
            "Digite sua idade: 60\n",
            "Idoso\n"
          ]
        }
      ]
    },
    {
      "cell_type": "markdown",
      "metadata": {
        "id": "F60tJhDsMWGJ"
      },
      "source": [
        "3. Faça um programa que receba três números e ordene eles em ordem crescente:"
      ]
    },
    {
      "cell_type": "code",
      "metadata": {
        "colab": {
          "base_uri": "https://localhost:8080/"
        },
        "id": "_veIhnRpMcEQ",
        "outputId": "b9293b59-595c-436d-9cd8-26592044ef18"
      },
      "source": [
        "num1 = int(input(\"Número 1: \"))\n",
        "num2 = int(input(\"Número 2: \"))\n",
        "num3 = int(input(\"Número 3: \"))\n",
        "lista = [num1, num2, num3]\n",
        "lista.sort()\n",
        "print(lista)"
      ],
      "execution_count": null,
      "outputs": [
        {
          "output_type": "stream",
          "name": "stdout",
          "text": [
            "Número 1: 12\n",
            "Número 2: 15\n",
            "Número 3: 6\n",
            "[6, 12, 15]\n"
          ]
        }
      ]
    },
    {
      "cell_type": "markdown",
      "metadata": {
        "id": "TgZqFiS4NH83"
      },
      "source": [
        "4. Uma empresa de vendas tem vários corretores. A empresa paga\n",
        "ao corretor uma comissão calculada de acordo com o valor de\n",
        "suas vendas. Se o valor da venda de um corretor for maior que R\\$50.000.00 a comissão será de 12% do valor vendido. Se o valor da\n",
        "venda do corretor estiver entre R\\$ 30.000.00 e R\\$ 50.000.00 a\n",
        "comissão será de 9.5%. Em qualquer outro caso, a comissão será\n",
        "de 7%. Escreva um programa que recebe o nome e o valor\n",
        "vendido por um corretor e indique qual será sua comissão."
      ]
    },
    {
      "cell_type": "code",
      "metadata": {
        "colab": {
          "base_uri": "https://localhost:8080/"
        },
        "id": "Ew4eTccsNoVC",
        "outputId": "4eb3b6d3-590a-4762-8857-e604a68acf01"
      },
      "source": [
        "nome = input(\"Nome: \")\n",
        "valor = float(input(\"Valor: \"))\n",
        "if(valor > 50000.00):\n",
        "  comissao = valor*0.12\n",
        "  print(nome, \"receberá 12% de comissão, ou seja: R$\", comissao)\n",
        "elif(30000.00 <= valor <= 50000.00):\n",
        "  comissao = valor*0.095\n",
        "  print(nome, \"receberá 9,5% de comissão, ou seja: R$\", comissao)\n",
        "else:\n",
        "  comissao = valor*0.07\n",
        "  print(nome, \"receberá 7% de comissão, ou seja: R$\", comissao)"
      ],
      "execution_count": null,
      "outputs": [
        {
          "output_type": "stream",
          "name": "stdout",
          "text": [
            "Nome: Lucas\n",
            "Valor: 12000\n",
            "Lucas receberá 7% de comissão, ou seja: R$ 840.0000000000001\n"
          ]
        }
      ]
    },
    {
      "cell_type": "markdown",
      "metadata": {
        "id": "JHgluQViPTGY"
      },
      "source": [
        "5. Escreva um algoritmo que recebe três valores para os lados de\n",
        "um triângulo (a,b e c) e decide se a forma geométrica é um\n",
        "triângulo ou não e em caso positivo, classifique em isósceles,\n",
        "escaleno ou equilátero.<br>\n",
        "– O valor de cada lado deve ser menor que' a soma dos outros\n",
        "dois<br>\n",
        "– Isósceles: dois lados iguais e um diferente<br>\n",
        "– Escaleno: todos os lados diferentes<br>\n",
        "– Equilátero: todos os lados iguais"
      ]
    },
    {
      "cell_type": "code",
      "metadata": {
        "colab": {
          "base_uri": "https://localhost:8080/"
        },
        "id": "gYhAFc8zPdL5",
        "outputId": "f9f4d1a6-7400-475d-abfa-836b7b0d2377"
      },
      "source": [
        "lad1 = int(input(\"Lado 1: \"))\n",
        "lad2 = int(input(\"Lado 2: \"))\n",
        "lad3 = int(input(\"Lado 3: \"))\n",
        "if(lad1 < lad2 + lad3 and lad2 < lad1 + lad3 and lad3 < lad2 + lad1):\n",
        "  if(lad1 == lad2 and lad3 == lad2):\n",
        "    print(\"Triângulo Isóceles\")\n",
        "  elif(lad1 == lad2 or lad2 == lad3 or lad1 == lad3):\n",
        "    print(\"Triângulo Escaleno\")\n",
        "  else:\n",
        "    print(\"Triângulo Equilátero\")\n",
        "else:\n",
        "  print(\"Não é um triângulo\")"
      ],
      "execution_count": null,
      "outputs": [
        {
          "output_type": "stream",
          "name": "stdout",
          "text": [
            "Lado 1: 4\n",
            "Lado 2: 4\n",
            "Lado 3: 9\n",
            "Não é um triângulo\n"
          ]
        }
      ]
    }
  ]
}